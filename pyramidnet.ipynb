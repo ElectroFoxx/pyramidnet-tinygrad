{
 "cells": [
  {
   "cell_type": "code",
   "execution_count": 16,
   "id": "49434e60",
   "metadata": {},
   "outputs": [],
   "source": [
    "from tinygrad.tensor import Tensor\n",
    "import tinygrad.nn as nn\n",
    "from tinygrad.nn.datasets import cifar\n",
    "from tinygrad.nn.optim import Adam\n",
    "from tinygrad.nn.state import get_parameters\n",
    "from tinygrad.dtype import dtypes\n",
    "import numpy as np\n",
    "from PIL import Image\n",
    "from tqdm import tqdm\n",
    "import torchvision.transforms as transforms\n",
    "import torchvision\n",
    "from torch.utils.data import DataLoader"
   ]
  },
  {
   "cell_type": "code",
   "execution_count": 17,
   "id": "371c7d29-7f40-4519-936d-790e608c2c95",
   "metadata": {},
   "outputs": [],
   "source": [
    "class BasicBlock():\n",
    "    outchannel_ratio = 1\n",
    "    def __init__(self, in_channels, out_channels, stride=1, downsample=None):\n",
    "        # https://pytorch.org/docs/stable/generated/torch.nn.BatchNorm2d.html\n",
    "        # eps=1e-05, momentum=0.1, affine=True, track_running_stats=True\n",
    "        # https://docs.tinygrad.org/nn/#tinygrad.nn.BatchNorm\n",
    "        # eps=1e-05, momentum=0.1, affine=True, track_running_stats=True\n",
    "        self.bn1 = nn.BatchNorm(in_channels)\n",
    "        # https://pytorch.org/docs/stable/generated/torch.nn.Conv2d.html\n",
    "        # dilation=1, groups=1\n",
    "        # https://docs.tinygrad.org/nn/#tinygrad.nn.Conv2d\n",
    "        # dilation=1, groups=1\n",
    "        self.conv1 = nn.Conv2d(in_channels, out_channels, kernel_size=3, stride=stride, padding=1, bias=False)\n",
    "        self.bn2 = nn.BatchNorm(out_channels)\n",
    "        self.conv2 = nn.Conv2d(out_channels, out_channels, kernel_size=3, padding=1, bias=False)\n",
    "        self.bn3 = nn.BatchNorm(out_channels)\n",
    "        self.downsample = downsample\n",
    "        self.stride = stride\n",
    "\n",
    "    def __call__(self, x):\n",
    "        out = self.bn1(x)\n",
    "        #print(f\"bn1 shape = {out.size()}\")\n",
    "        out = self.conv1(out)\n",
    "        #print(f\"conv1 shape = {out.size()}\")\n",
    "        out = self.bn2(out)\n",
    "        #print(f\"bn2 shape = {out.size()}\")\n",
    "        out = out.relu()\n",
    "        #print(f\"relu shape = {out.size()}\")\n",
    "        out = self.conv2(out)\n",
    "        #print(f\"conv2 shape = {out.size()}\")\n",
    "        \n",
    "        out = self.bn3(out)\n",
    "        #print(f\"bn3 shape = {out.size()}\")\n",
    "\n",
    "        if self.downsample is not None:\n",
    "            shortcut = self.downsample(x)\n",
    "            featuremap_size = shortcut.size()[2:4]\n",
    "        else:\n",
    "            shortcut = x\n",
    "            featuremap_size = out.size()[2:4]\n",
    "\n",
    "        batch_size = out.size()[0]\n",
    "        residual_channel = out.size()[1]\n",
    "        shortcut_channel = shortcut.size()[1]\n",
    "\n",
    "        if residual_channel != shortcut_channel:\n",
    "            padding = Tensor.zeros(batch_size, residual_channel - shortcut_channel, featuremap_size[0], featuremap_size[1])\n",
    "            out = out + Tensor.cat(shortcut, padding, dim=1)\n",
    "        else:\n",
    "            out = out + shortcut\n",
    "        #print(f\"layer out shape = {out.size()}\", end=\"\\n\\n\")\n",
    "        return out\n",
    "\n",
    "\n",
    "class Bottleneck():\n",
    "    outchannel_ratio = 4\n",
    "    def __init__(self, in_planes, planes, stride=1, downsample=None):\n",
    "        self.bn1 = nn.BatchNorm(in_planes)\n",
    "        # https://pytorch.org/docs/stable/generated/torch.nn.BatchNorm2d.html\n",
    "        # stride=1, padding=0\n",
    "        # https://docs.tinygrad.org/nn/#tinygrad.nn.BatchNorm\n",
    "        # stride=1, padding=0\n",
    "        self.conv1 = nn.Conv2d(in_planes, planes, kernel_size=1, bias=False)\n",
    "        self.bn2 = nn.BatchNorm(planes)\n",
    "        self.conv2 = nn.Conv2d(planes, planes, kernel_size=3, stride=stride, padding=1, bias=False)\n",
    "        self.bn3 = nn.BatchNorm(planes)\n",
    "        self.conv3 = nn.Conv2d(planes, planes * Bottleneck.outchannel_ratio, kernel_size=1, bias=False)\n",
    "        self.bn3 = nn.BatchNorm(planes * Bottleneck.outchannel_ratio)\n",
    "        self.relu = Tensor.relu\n",
    "        self.downsample = downsample\n",
    "        self.stride = stride\n",
    "\n",
    "    def __call__(self, x):\n",
    "        out = self.bn1(x)\n",
    "        out = self.conv1(out)\n",
    "        \n",
    "        out = self.bn2(out)\n",
    "        out = self.relu(out)\n",
    "        out = self.conv2(out)\n",
    "\n",
    "        out = self.bn3(out)\n",
    "        out = self.relu(out)\n",
    "        out = self.conv3(out)\n",
    "        \n",
    "        out = self.bn4(out)\n",
    "\n",
    "        if self.downsample is not None:\n",
    "            shortcut = self.downsample(x)\n",
    "            featuremap_size = shortcut.size()[2:4]\n",
    "        else:\n",
    "            shortcut = x\n",
    "            featuremap_size = out.size()[2:4]\n",
    "\n",
    "        batch_size = out.size()[0]\n",
    "        residual_channel = out.size()[1]\n",
    "        shortcut_channel = shortcut.size()[1]\n",
    "\n",
    "        if residual_channel != shortcut_channel:\n",
    "            padding = Tensor.zeros(batch_size, residual_channel - shortcut_channel, featuremap_size[0], featuremap_size[1])\n",
    "            \n",
    "            out += Tensor.cat(shortcut, padding, 1)\n",
    "        else:\n",
    "            out += shortcut\n",
    "\n",
    "        return out\n",
    "\n",
    "\n",
    "class PyramidNet:\n",
    "    def __init__(self, num_classes, depth, alpha, bottleneck=False):\n",
    "        if depth not in [18, 34, 50, 101, 152, 200]:\n",
    "            if bottleneck:\n",
    "                block = Bottleneck\n",
    "                temp_cfg = (depth - 2) // 12\n",
    "            else:\n",
    "                block = BasicBlock\n",
    "                temp_cfg = (depth - 2) // 8\n",
    "            layers = [temp_cfg, temp_cfg, temp_cfg, temp_cfg]\n",
    "            print('=> the layer configuration for each stage is set to', layers[depth])\n",
    "        else:\n",
    "            block = BasicBlock if depth <= 34 and not bottleneck else Bottleneck\n",
    "            if depth == 18:\n",
    "                layers = [2, 2, 2, 2]\n",
    "            elif depth in [34, 50]:\n",
    "                layers = [3, 4, 6, 3]\n",
    "            elif depth == 101:\n",
    "                layers = [3, 4, 23, 3]\n",
    "            elif depth == 152:\n",
    "                layers = [3, 8, 36, 3]\n",
    "            else:\n",
    "                layers = [3, 24, 36, 3]\n",
    "\n",
    "        self.in_planes = 64            \n",
    "        self.addrate = alpha / sum(layers)\n",
    "\n",
    "        self.input_featuremap_dim = self.in_planes\n",
    "        self.conv1 = nn.Conv2d(3, self.in_planes, kernel_size=7, stride=2, padding=3, bias=False)\n",
    "        self.bn1 = nn.BatchNorm2d(self.in_planes)\n",
    "\n",
    "        self.featuremap_dim = self.input_featuremap_dim \n",
    "        self.layer1 = self.pyramidal_make_layer(block, layers[0])\n",
    "        self.layer2 = self.pyramidal_make_layer(block, layers[1], stride=2)\n",
    "        self.layer3 = self.pyramidal_make_layer(block, layers[2], stride=2)\n",
    "        self.layer4 = self.pyramidal_make_layer(block, layers[3], stride=2)\n",
    "\n",
    "        self.final_featuremap_dim = self.input_featuremap_dim\n",
    "        self.bn_final = nn.BatchNorm2d(self.final_featuremap_dim)\n",
    "        self.avgpool = lambda x: x.avg_pool2d(7)\n",
    "        self.fc = nn.Linear(self.final_featuremap_dim, num_classes)\n",
    "\n",
    "    def pyramidal_make_layer(self, block, block_depth, stride=1):\n",
    "        downsample = None\n",
    "        if stride != 1:\n",
    "            downsample = lambda x: x.avg_pool2d((2, 2), stride=(2, 2), ceil_mode=True)\n",
    "\n",
    "        layers = []\n",
    "        self.featuremap_dim += self.addrate\n",
    "        layers.append(block(self.input_featuremap_dim, int(round(self.featuremap_dim)), stride, downsample))\n",
    "        for i in range(1, block_depth):\n",
    "            temp_featuremap_dim = self.featuremap_dim + self.addrate\n",
    "            layers.append(block(int(round(self.featuremap_dim)) * block.outchannel_ratio, int(round(temp_featuremap_dim)), 1))\n",
    "            self.featuremap_dim  = temp_featuremap_dim\n",
    "        self.input_featuremap_dim = int(round(self.featuremap_dim)) * block.outchannel_ratio\n",
    "        return layers\n",
    "\n",
    "    def __call__(self, x):\n",
    "        x = self.conv1(x)\n",
    "        x = self.bn1(x)\n",
    "        x = x.relu()\n",
    "        x = x.max_pool2d(kernel_size=3, stride=2, padding=1)\n",
    "\n",
    "        for layer in self.layer1:\n",
    "            x = layer(x)\n",
    "        for layer in self.layer2:\n",
    "            x = layer(x)\n",
    "        for layer in self.layer3:\n",
    "            x = layer(x)\n",
    "        for layer in self.layer4:\n",
    "            x = layer(x)\n",
    "\n",
    "        x = self.bn_final(x)\n",
    "        #print(x.size())\n",
    "        x = x.relu()\n",
    "        #print(x.size())\n",
    "        x = x.avg_pool2d(7)\n",
    "        #print(x.size())\n",
    "        x = x.view(x.size(0), -1)\n",
    "        #print(x.size())\n",
    "        #print(x)\n",
    "        x = self.fc(x)\n",
    "        #print(x.size())\n",
    "        return x\n",
    "    \n",
    "        \n"
   ]
  },
  {
   "cell_type": "code",
   "execution_count": 25,
   "id": "157e5bb7",
   "metadata": {},
   "outputs": [
    {
     "name": "stdout",
     "output_type": "stream",
     "text": [
      "(50000, 3, 32, 32)\n"
     ]
    }
   ],
   "source": [
    "# def resize_data(data, target_size=224):\n",
    "#     new_data = None\n",
    "#     for image_t in tqdm(data):\n",
    "#         image = Image.fromarray(np.transpose(image_t.numpy(), (1, 2, 0))).resize((target_size, target_size))\n",
    "#         image_np = np.transpose(np.array(image), (2, 0, 1))\n",
    "#         if new_data is None:\n",
    "#             new_data = Tensor(image_np, dtype=dtypes.uint8)\n",
    "#         else:\n",
    "#             new_data.stack(Tensor(image_np, dtype=dtypes.uint8))\n",
    "#     return new_data\n",
    "\n",
    "# X_train, Y_train, X_test, Y_test = cifar()\n",
    "# X_train = resize_data(X_train)\n",
    "# X_test = resize_data(X_test)\n",
    "X_train, Y_train, X_test, Y_test = cifar()\n",
    "print(X_train.size())"
   ]
  },
  {
   "cell_type": "code",
   "execution_count": null,
   "id": "4674ec71-c6a8-4f99-8b9d-6c350b20bb09",
   "metadata": {},
   "outputs": [
    {
     "name": "stderr",
     "output_type": "stream",
     "text": [
      "100it [02:40,  1.64s/it]"
     ]
    },
    {
     "name": "stdout",
     "output_type": "stream",
     "text": [
      "Loss: 5.153182029724121 | Accuracy: 0.0\n"
     ]
    },
    {
     "name": "stderr",
     "output_type": "stream",
     "text": [
      "200it [05:16,  1.86s/it]"
     ]
    },
    {
     "name": "stdout",
     "output_type": "stream",
     "text": [
      "Loss: 5.136722087860107 | Accuracy: 0.03125\n"
     ]
    },
    {
     "name": "stderr",
     "output_type": "stream",
     "text": [
      "300it [07:53,  1.60s/it]"
     ]
    },
    {
     "name": "stdout",
     "output_type": "stream",
     "text": [
      "Loss: 4.961346626281738 | Accuracy: 0.0625\n"
     ]
    },
    {
     "name": "stderr",
     "output_type": "stream",
     "text": [
      "400it [10:29,  1.87s/it]"
     ]
    },
    {
     "name": "stdout",
     "output_type": "stream",
     "text": [
      "Loss: 5.193563461303711 | Accuracy: 0.0\n"
     ]
    },
    {
     "name": "stderr",
     "output_type": "stream",
     "text": [
      "500it [13:10,  1.66s/it]"
     ]
    },
    {
     "name": "stdout",
     "output_type": "stream",
     "text": [
      "Loss: 4.869668960571289 | Accuracy: 0.0625\n"
     ]
    },
    {
     "name": "stderr",
     "output_type": "stream",
     "text": [
      "600it [15:49,  2.11s/it]"
     ]
    },
    {
     "name": "stdout",
     "output_type": "stream",
     "text": [
      "Loss: 4.73364782333374 | Accuracy: 0.0625\n"
     ]
    },
    {
     "name": "stderr",
     "output_type": "stream",
     "text": [
      "700it [18:33,  1.69s/it]"
     ]
    },
    {
     "name": "stdout",
     "output_type": "stream",
     "text": [
      "Loss: 4.834665775299072 | Accuracy: 0.0625\n"
     ]
    },
    {
     "name": "stderr",
     "output_type": "stream",
     "text": [
      "760it [20:21,  1.94s/it]"
     ]
    }
   ],
   "source": [
    "num_classes = 200\n",
    "depth = 18\n",
    "alpha = 48\n",
    "batch_size = 32\n",
    "epochs = 1000\n",
    "learning_rate = 0.001\n",
    "\n",
    "transform = transforms.Compose([\n",
    "    transforms.Resize((224, 224)),\n",
    "    lambda x: np.array(x)\n",
    "])\n",
    "\n",
    "train_dataset = torchvision.datasets.ImageFolder(root='C:/Users/elect/Documents/SEM9/Advanced Machine Learning/tiny-imagenet-200/train', transform=transform)\n",
    "val_dataset = torchvision.datasets.ImageFolder(root='C:/Users/elect/Documents/SEM9/Advanced Machine Learning/tiny-imagenet-200/val', transform=transform)\n",
    "\n",
    "train_loader = DataLoader(train_dataset, batch_size=batch_size, shuffle=True)\n",
    "val_loader = DataLoader(val_dataset, batch_size=batch_size, shuffle=False)\n",
    "\n",
    "model = PyramidNet(num_classes=num_classes, depth=depth, alpha=alpha)\n",
    "\n",
    "optimizer = Adam(get_parameters(model), lr=learning_rate)\n",
    "\n",
    "with Tensor.train():\n",
    "    for i, (images, labels) in tqdm(enumerate(train_loader)):\n",
    "        images = Tensor(images.numpy().transpose((0, 3, 1, 2)))\n",
    "        labels = Tensor(labels.numpy())\n",
    "        out = model(images)\n",
    "        loss = out.sparse_categorical_crossentropy(labels)\n",
    "        optimizer.zero_grad()\n",
    "        loss.backward()\n",
    "        optimizer.step()\n",
    "        if i % 100 == 99:\n",
    "            pred = out.argmax(axis=-1)\n",
    "            acc = (pred == labels).mean()\n",
    "            print(f\"Loss: {loss.numpy()} | Accuracy: {acc.numpy()}\")\n",
    "\n"
   ]
  }
 ],
 "metadata": {
  "kernelspec": {
   "display_name": "Python 3 (ipykernel)",
   "language": "python",
   "name": "python3"
  },
  "language_info": {
   "codemirror_mode": {
    "name": "ipython",
    "version": 3
   },
   "file_extension": ".py",
   "mimetype": "text/x-python",
   "name": "python",
   "nbconvert_exporter": "python",
   "pygments_lexer": "ipython3",
   "version": "3.12.7"
  }
 },
 "nbformat": 4,
 "nbformat_minor": 5
}
