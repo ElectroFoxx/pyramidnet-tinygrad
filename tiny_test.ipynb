{
 "cells": [
  {
   "cell_type": "code",
   "execution_count": 2,
   "metadata": {
    "colab": {
     "base_uri": "https://localhost:8080/"
    },
    "id": "8X6NW-fHb67C",
    "outputId": "b28e91c0-c697-4078-f476-3b65c06cd93d"
   },
   "outputs": [
    {
     "name": "stdout",
     "output_type": "stream",
     "text": [
      "['GPU']\n",
      "GPU\n"
     ]
    }
   ],
   "source": [
    "from tinygrad import Device\n",
    "print([dev for dev in Device.get_available_devices()])\n",
    "print(Device.DEFAULT)"
   ]
  },
  {
   "cell_type": "code",
   "execution_count": 3,
   "metadata": {
    "id": "huwmRoCycLT_"
   },
   "outputs": [],
   "source": [
    "from tinygrad import Tensor, nn\n",
    "\n",
    "class Model:\n",
    "  def __init__(self):\n",
    "    self.l1 = nn.Conv2d(1, 32, kernel_size=(3,3))\n",
    "    self.l2 = nn.Conv2d(32, 64, kernel_size=(3,3))\n",
    "    self.l3 = nn.Linear(1600, 10)\n",
    "\n",
    "  def __call__(self, x:Tensor) -> Tensor:\n",
    "    x = self.l1(x).relu().max_pool2d((2,2))\n",
    "    x = self.l2(x).relu().max_pool2d((2,2))\n",
    "    return self.l3(x.flatten(1).dropout(0.5))"
   ]
  },
  {
   "cell_type": "code",
   "execution_count": 4,
   "metadata": {
    "colab": {
     "base_uri": "https://localhost:8080/"
    },
    "id": "rLo63elecMl6",
    "outputId": "de31d745-e9a5-4c91-fd33-ca86c469ba69"
   },
   "outputs": [
    {
     "name": "stderr",
     "output_type": "stream",
     "text": [
      "https://storage.googleapis.com/cvdf-datasets/mnist/train-images-idx3-ubyte.gz: 47.0MB [00:00, 50.5MB\n",
      "https://storage.googleapis.com/cvdf-datasets/mnist/train-labels-idx1-ubyte.gz: 60.0kB [00:00, 10.1MB\n",
      "https://storage.googleapis.com/cvdf-datasets/mnist/t10k-images-idx3-ubyte.gz: 7.84MB [00:00, 27.8MB/\n",
      "https://storage.googleapis.com/cvdf-datasets/mnist/t10k-labels-idx1-ubyte.gz: 10.0kB [00:00, 1.98MB/\n"
     ]
    },
    {
     "name": "stdout",
     "output_type": "stream",
     "text": [
      "(60000, 1, 28, 28) dtypes.uchar (60000,) dtypes.uchar\n"
     ]
    }
   ],
   "source": [
    "from tinygrad.nn.datasets import mnist\n",
    "X_train, Y_train, X_test, Y_test = mnist()\n",
    "print(X_train.shape, X_train.dtype, Y_train.shape, Y_train.dtype)\n",
    "# (60000, 1, 28, 28) dtypes.uchar (60000,) dtypes.uchar"
   ]
  },
  {
   "cell_type": "code",
   "execution_count": 5,
   "metadata": {
    "colab": {
     "base_uri": "https://localhost:8080/"
    },
    "id": "RsJlOH4FcOZC",
    "outputId": "59d9114f-401e-43fb-c968-c0d548ca99b3"
   },
   "outputs": [
    {
     "name": "stdout",
     "output_type": "stream",
     "text": [
      "0.07909999787807465\n"
     ]
    }
   ],
   "source": [
    "model = Model()\n",
    "acc = (model(X_test).argmax(axis=1) == Y_test).mean()\n",
    "# NOTE: tinygrad is lazy, and hasn't actually run anything by this point\n",
    "print(acc.item())  # ~10% accuracy, as expected from a random model"
   ]
  },
  {
   "cell_type": "code",
   "execution_count": 6,
   "metadata": {
    "id": "w2OrV83UcSfF"
   },
   "outputs": [],
   "source": [
    "optim = nn.optim.Adam(nn.state.get_parameters(model))\n",
    "batch_size = 128\n",
    "def step():\n",
    "  Tensor.training = True  # makes dropout work\n",
    "  samples = Tensor.randint(batch_size, high=X_train.shape[0])\n",
    "  X, Y = X_train[samples], Y_train[samples]\n",
    "  optim.zero_grad()\n",
    "  loss = model(X).sparse_categorical_crossentropy(Y).backward()\n",
    "  optim.step()\n",
    "  return loss"
   ]
  },
  {
   "cell_type": "code",
   "execution_count": 8,
   "metadata": {
    "colab": {
     "base_uri": "https://localhost:8080/"
    },
    "id": "WV2ydU1scUSP",
    "outputId": "6bc664ae-ae8d-458f-83e0-26399a40719c"
   },
   "outputs": [
    {
     "data": {
      "text/plain": [
       "[0.14294536099998822,\n",
       " 0.1373435109999832,\n",
       " 0.13323673700000427,\n",
       " 0.1391792169999917,\n",
       " 0.13211539400001016]"
      ]
     },
     "execution_count": 8,
     "metadata": {},
     "output_type": "execute_result"
    }
   ],
   "source": [
    "import timeit\n",
    "timeit.repeat(step, repeat=5, number=1)\n",
    "#[0.08268719699981375,\n",
    "# 0.07478952900009972,\n",
    "# 0.07714716600003158,\n",
    "# 0.07785399599970333,\n",
    "# 0.07605237000007037]"
   ]
  },
  {
   "cell_type": "code",
   "execution_count": 9,
   "metadata": {
    "colab": {
     "base_uri": "https://localhost:8080/"
    },
    "id": "rHsU1bvscaxV",
    "outputId": "6f271556-2dab-402c-eac8-6522507e4421"
   },
   "outputs": [
    {
     "name": "stdout",
     "output_type": "stream",
     "text": [
      "scheduled 49 kernels\n",
      "*** CUDA       1 E_\u001b[90mn11\u001b[0m                                     arg  1 mem  0.06 GB tm     30.14us/     0.03ms (     0.00 GFLOPS    0.0|0.0     GB/s) ['__imul__']\n",
      "*** CUDA       2 E_\u001b[90mn12\u001b[0m                                     arg  1 mem  0.06 GB tm     22.43us/     0.05ms (     0.00 GFLOPS    0.0|0.0     GB/s) ['__imul__']\n",
      "*** CUDA       3 E_\u001b[90mn6\u001b[0m                                      arg  1 mem  0.06 GB tm     24.61us/     0.08ms (     0.00 GFLOPS    0.0|0.0     GB/s) ['randint']\n",
      "*** CUDA       4 r_\u001b[34m625\u001b[0m\u001b[90m_\u001b[0m\u001b[36m32\u001b[0m\u001b[90m_\u001b[0m\u001b[31m15000\u001b[0m\u001b[90m_\u001b[0m\u001b[33m3\u001b[0m\u001b[90m_\u001b[0m\u001b[35m4\u001b[0m\u001b[90m\u001b[0m                        arg  1 mem  0.06 GB tm     22.56us/     0.10ms (    20.39 GFLOPS   10.6|10.6    GB/s) ['__getitem__']\n",
      "*** CUDA       5 r_\u001b[34m5\u001b[0m\u001b[90m_\u001b[0m\u001b[36m2\u001b[0m\u001b[90m_\u001b[0m\u001b[35m10\u001b[0m\u001b[90mn1\u001b[0m                                arg  1 mem  0.06 GB tm     41.09us/     0.14ms (     0.01 GFLOPS    0.0|0.0     GB/s) ['sparse_categorical_crossentropy']\n",
      "*** CUDA       6 E_\u001b[90mn10\u001b[0m                                     arg  2 mem  0.06 GB tm     24.38us/     0.17ms (     0.00 GFLOPS    0.0|0.0     GB/s) ['__rsub__']\n",
      "*** CUDA       7 E_\u001b[90mn10\u001b[0m                                     arg  2 mem  0.06 GB tm    408.93us/     0.57ms (     0.00 GFLOPS    0.0|0.0     GB/s) ['__rsub__']\n",
      "*** CUDA       8 E_\u001b[90mn9\u001b[0m                                      arg  2 mem  0.06 GB tm     22.24us/     0.60ms (     0.00 GFLOPS    0.0|0.0     GB/s) ['dropout']\n",
      "*** CUDA       9 r_\u001b[34m64\u001b[0m\u001b[90m_\u001b[0m\u001b[32m16\u001b[0m\u001b[90m_\u001b[0m\u001b[31m4\u001b[0m\u001b[90m\u001b[0m                                 arg  2 mem  0.06 GB tm     22.11us/     0.62ms (     1.25 GFLOPS    0.0|3.5     GB/s) ['randint']\n",
      "*** CUDA      10 r_\u001b[34m800\u001b[0m\u001b[90m_\u001b[0m\u001b[36m32\u001b[0m\u001b[90m_\u001b[0m\u001b[31m25600\u001b[0m\u001b[90m_\u001b[0m\u001b[33m4\u001b[0m\u001b[90m_\u001b[0m\u001b[35m4\u001b[0m\u001b[90m\u001b[0m                        arg  2 mem  0.06 GB tm     23.71us/     0.64ms (    21.59 GFLOPS   17.3|21.6    GB/s) ['dropout']\n",
      "*** CUDA      11 E_\u001b[36m16\u001b[0m\u001b[90m_\u001b[0m\u001b[33m4\u001b[0m\u001b[90mn4\u001b[0m                                  arg  3 mem  0.06 GB tm     18.43us/     0.66ms (     0.52 GFLOPS    0.0|0.0     GB/s) ['randint']\n",
      "*** CUDA      12 E_\u001b[34m800\u001b[0m\u001b[90m_\u001b[0m\u001b[36m32\u001b[0m\u001b[90m_\u001b[0m\u001b[33m4\u001b[0m\u001b[90m\u001b[0m                                arg  3 mem  0.06 GB tm     26.66us/     0.69ms (   571.43 GFLOPS   30.7|38.4    GB/s) ['dropout']\n",
      "*** CUDA      13 E_\u001b[36m32\u001b[0m\u001b[90m_\u001b[0m\u001b[33m4\u001b[0m\u001b[90m\u001b[0m                                    arg  4 mem  0.06 GB tm     22.50us/     0.71ms (     0.81 GFLOPS    0.1|0.1     GB/s) ['randint']\n",
      "*** CUDA      14 E_\u001b[34m1600\u001b[0m\u001b[90m_\u001b[0m\u001b[36m32\u001b[0m\u001b[90m_\u001b[0m\u001b[33m4\u001b[0m\u001b[90m\u001b[0m                               arg  4 mem  0.06 GB tm    405.98us/     1.12ms (    72.14 GFLOPS    5.0|7.1     GB/s) ['dropout']\n",
      "\u001b[32m*** CUDA      15\u001b[0m \u001b[33mview      512 @ 0         \u001b[0m                arg  2 mem  0.06 GB \n",
      "\u001b[32m*** CUDA      16\u001b[0m \u001b[33mview   819200 @ 0         \u001b[0m                arg  2 mem  0.06 GB \n",
      "*** CUDA      17 E_\u001b[36m32\u001b[0m\u001b[90m_\u001b[0m\u001b[33m4\u001b[0m\u001b[90mn1\u001b[0m                                  arg  2 mem  0.06 GB tm     21.12us/     1.14ms (     0.01 GFLOPS    0.0|0.0     GB/s) ['randint']\n",
      "*** CUDA      18 E_\u001b[34m1600\u001b[0m\u001b[90m_\u001b[0m\u001b[36m32\u001b[0m\u001b[90m_\u001b[0m\u001b[33m4\u001b[0m\u001b[90mn1\u001b[0m                             arg  2 mem  0.06 GB tm     24.58us/     1.16ms (    16.67 GFLOPS   41.7|41.7    GB/s) ['dropout']\n",
      "*** CUDA      19 E_\u001b[36m32\u001b[0m\u001b[90m_\u001b[0m\u001b[33m4\u001b[0m\u001b[90mn2\u001b[0m                                  arg  2 mem  0.06 GB tm     28.67us/     1.19ms (     0.02 GFLOPS    0.0|0.0     GB/s) ['randint', '__getitem__']\n",
      "*** CUDA      20 r_\u001b[34m8\u001b[0m\u001b[90m_\u001b[0m\u001b[34m49\u001b[0m\u001b[90m_\u001b[0m\u001b[34m5\u001b[0m\u001b[90m_\u001b[0m\u001b[36m4\u001b[0m\u001b[90m_\u001b[0m\u001b[36m4\u001b[0m\u001b[90m_\u001b[0m\u001b[36m8\u001b[0m\u001b[90m_\u001b[0m\u001b[31m375\u001b[0m\u001b[90m_\u001b[0m\u001b[33m4\u001b[0m\u001b[90m_\u001b[0m\u001b[33m4\u001b[0m\u001b[90m_\u001b[0m\u001b[35m4\u001b[0m\u001b[90m\u001b[0m                  arg  4 mem  0.06 GB tm   8717.09us/     9.91ms (  1726.82 GFLOPS    5.9|346.3   GB/s) ['__getitem__']\n",
      "*** CUDA      21 r_\u001b[34m125\u001b[0m\u001b[90m_\u001b[0m\u001b[36m32\u001b[0m\u001b[90m_\u001b[0m\u001b[36m2\u001b[0m\u001b[90m_\u001b[0m\u001b[31m60\u001b[0m\u001b[90m_\u001b[0m\u001b[33m4\u001b[0m\u001b[90m_\u001b[0m\u001b[35m4\u001b[0m\u001b[90m\u001b[0m                         arg  4 mem  0.06 GB tm     53.50us/     9.96ms (   574.16 GFLOPS    6.2|182.4   GB/s) ['__getitem__']\n",
      "*** CUDA      22 r_\u001b[34m3136\u001b[0m\u001b[90m_\u001b[0m\u001b[36m32\u001b[0m\u001b[90m_\u001b[0m\u001b[31m10\u001b[0m\u001b[90m_\u001b[0m\u001b[35m4\u001b[0m\u001b[90m\u001b[0m                            arg  2 mem  0.06 GB tm    431.33us/    10.39ms (     9.31 GFLOPS    9.5|9.5     GB/s) ['__getitem__']\n",
      "*** CUDA      23 r_\u001b[34m4\u001b[0m\u001b[90m_\u001b[0m\u001b[36m32\u001b[0m\u001b[90m_\u001b[0m\u001b[31m250\u001b[0m\u001b[90m\u001b[0m                                arg  2 mem  0.06 GB tm     29.44us/    10.42ms (     1.09 GFLOPS    1.1|1.1     GB/s) ['sparse_categorical_crossentropy', '__getitem__']\n",
      "*** CUDA      24 r_\u001b[34m32\u001b[0m\u001b[90m_\u001b[0m\u001b[34m13\u001b[0m\u001b[90m_\u001b[0m\u001b[34m13\u001b[0m\u001b[90m_\u001b[0m\u001b[36m8\u001b[0m\u001b[90m_\u001b[0m\u001b[36m2\u001b[0m\u001b[90m_\u001b[0m\u001b[36m2\u001b[0m\u001b[90m_\u001b[0m\u001b[33m4\u001b[0m\u001b[90m_\u001b[0m\u001b[33m4\u001b[0m\u001b[90m_\u001b[0m\u001b[35m3\u001b[0m\u001b[90m_\u001b[0m\u001b[35m3\u001b[0m\u001b[90m\u001b[0m                  arg  4 mem  0.07 GB tm    265.79us/    10.69ms (   187.52 GFLOPS   42.1|169.3   GB/s) ['conv2d']\n",
      "*** CUDA      25 r_\u001b[34m416\u001b[0m\u001b[90m_\u001b[0m\u001b[34m13\u001b[0m\u001b[90m_\u001b[0m\u001b[36m32\u001b[0m\u001b[90m_\u001b[0m\u001b[33m4\u001b[0m\u001b[90m_\u001b[0m\u001b[35m2\u001b[0m\u001b[90m_\u001b[0m\u001b[35m2\u001b[0m\u001b[90m\u001b[0m                         arg  2 mem  0.07 GB tm    593.18us/    11.28ms (    16.34 GFLOPS   23.3|23.3    GB/s) ['max_pool2d', 'relu']\n",
      "*** CUDA      26 r_\u001b[34m416\u001b[0m\u001b[90m_\u001b[0m\u001b[34m13\u001b[0m\u001b[90m_\u001b[0m\u001b[36m32\u001b[0m\u001b[90m_\u001b[0m\u001b[33m4\u001b[0m\u001b[90m_\u001b[0m\u001b[35m2\u001b[0m\u001b[90m_\u001b[0m\u001b[35m2\u001b[0m\u001b[90mn1\u001b[0m                       arg  3 mem  0.07 GB tm    274.91us/    11.56ms (    47.84 GFLOPS   60.4|60.4    GB/s) ['max_pool2d bw', 'relu']\n",
      "*** CUDA      27 r_\u001b[34m4\u001b[0m\u001b[90m_\u001b[0m\u001b[34m11\u001b[0m\u001b[90m_\u001b[0m\u001b[34m11\u001b[0m\u001b[90m_\u001b[0m\u001b[36m8\u001b[0m\u001b[90m_\u001b[0m\u001b[36m16\u001b[0m\u001b[90m_\u001b[0m\u001b[31m32\u001b[0m\u001b[90m_\u001b[0m\u001b[33m4\u001b[0m\u001b[90m_\u001b[0m\u001b[33m4\u001b[0m\u001b[90m_\u001b[0m\u001b[35m3\u001b[0m\u001b[90m_\u001b[0m\u001b[35m3\u001b[0m\u001b[90m\u001b[0m                 arg  4 mem  0.08 GB tm   2520.96us/    14.08ms (   226.87 GFLOPS    2.7|228.4   GB/s) ['conv2d']\n",
      "*** CUDA      28 r_\u001b[34m64\u001b[0m\u001b[90m_\u001b[0m\u001b[34m5\u001b[0m\u001b[90m_\u001b[0m\u001b[34m5\u001b[0m\u001b[90m_\u001b[0m\u001b[36m32\u001b[0m\u001b[90m_\u001b[0m\u001b[33m4\u001b[0m\u001b[90m_\u001b[0m\u001b[35m2\u001b[0m\u001b[90m_\u001b[0m\u001b[35m2\u001b[0m\u001b[90m\u001b[0m                         arg  2 mem  0.08 GB tm     99.55us/    14.18ms (    28.80 GFLOPS   41.1|41.1    GB/s) ['max_pool2d', 'relu']\n",
      "*** CUDA      29 r_\u001b[34m64\u001b[0m\u001b[90m_\u001b[0m\u001b[34m5\u001b[0m\u001b[90m_\u001b[0m\u001b[34m5\u001b[0m\u001b[90m_\u001b[0m\u001b[36m32\u001b[0m\u001b[90m_\u001b[0m\u001b[33m4\u001b[0m\u001b[90m_\u001b[0m\u001b[35m2\u001b[0m\u001b[90m_\u001b[0m\u001b[35m2\u001b[0m\u001b[90mn1\u001b[0m                       arg  3 mem  0.08 GB tm    113.50us/    14.29ms (    34.28 GFLOPS   43.3|43.3    GB/s) ['max_pool2d bw', 'relu']\n",
      "*** CUDA      30 E_\u001b[34m1600\u001b[0m\u001b[90m_\u001b[0m\u001b[36m32\u001b[0m\u001b[90m_\u001b[0m\u001b[33m4\u001b[0m\u001b[90mn2\u001b[0m                             arg  3 mem  0.08 GB tm     27.74us/    14.32ms (    14.76 GFLOPS   66.4|66.4    GB/s) ['dropout']\n",
      "*** CUDA      31 r_\u001b[34m128\u001b[0m\u001b[90m_\u001b[0m\u001b[34m10\u001b[0m\u001b[90m_\u001b[0m\u001b[32m16\u001b[0m\u001b[90m_\u001b[0m\u001b[31m100\u001b[0m\u001b[90m\u001b[0m                           arg  4 mem  0.08 GB tm    212.06us/    14.53ms (    20.96 GFLOPS    4.2|84.6    GB/s) ['linear']\n",
      "*** CUDA      32 r_\u001b[34m4\u001b[0m\u001b[90m_\u001b[0m\u001b[36m32\u001b[0m\u001b[90m_\u001b[0m\u001b[35m10\u001b[0m\u001b[90m\u001b[0m                                 arg  2 mem  0.08 GB tm     17.76us/    14.55ms (     0.13 GFLOPS    0.3|0.3     GB/s) ['sparse_categorical_crossentropy']\n",
      "*** CUDA      33 r_\u001b[34m4\u001b[0m\u001b[90m_\u001b[0m\u001b[36m32\u001b[0m\u001b[90m_\u001b[0m\u001b[35m10\u001b[0m\u001b[90mn1\u001b[0m                               arg  3 mem  0.08 GB tm     21.92us/    14.57ms (     0.23 GFLOPS    0.3|0.3     GB/s) ['sparse_categorical_crossentropy']\n",
      "*** CUDA      34 r_\u001b[34m4\u001b[0m\u001b[90m_\u001b[0m\u001b[36m32\u001b[0m\u001b[90m_\u001b[0m\u001b[35m10\u001b[0m\u001b[90mn2\u001b[0m                               arg  4 mem  0.08 GB tm     22.72us/    14.59ms (     0.23 GFLOPS    0.1|0.3     GB/s) ['sparse_categorical_crossentropy', 'sparse_categorical_crossentropy bw']\n",
      "*** CUDA      35 E_\u001b[34m5\u001b[0m\u001b[90m_\u001b[0m\u001b[36m32\u001b[0m\u001b[90m_\u001b[0m\u001b[36m2\u001b[0m\u001b[90m_\u001b[0m\u001b[33m4\u001b[0m\u001b[90m\u001b[0m                                arg  6 mem  0.08 GB tm     22.50us/    14.61ms (     0.46 GFLOPS    0.5|1.2     GB/s) ['sparse_categorical_crossentropy', 'sparse_categorical_crossentropy bw', '__add__']\n",
      "*** CUDA      36 r3_\u001b[34m10\u001b[0m\u001b[90m_\u001b[0m\u001b[32m16\u001b[0m\u001b[90m_\u001b[0m\u001b[31m8\u001b[0m\u001b[90mn1\u001b[0m                              arg  7 mem  0.08 GB tm     17.06us/    14.63ms (     0.38 GFLOPS    0.3|1.3     GB/s) ['__mul__', 'linear bw', 'assign', '__truediv__', '__add__', '__rmul__']\n",
      "*** CUDA      37 r_\u001b[34m4\u001b[0m\u001b[90m_\u001b[0m\u001b[34m25\u001b[0m\u001b[90m_\u001b[0m\u001b[36m8\u001b[0m\u001b[90m_\u001b[0m\u001b[36m16\u001b[0m\u001b[90m_\u001b[0m\u001b[33m4\u001b[0m\u001b[90m_\u001b[0m\u001b[33m4\u001b[0m\u001b[90m_\u001b[0m\u001b[35m10\u001b[0m\u001b[90m\u001b[0m                        arg  4 mem  0.08 GB tm     34.30us/    14.67ms (   125.37 GFLOPS   31.9|149.3   GB/s) ['linear bw', 'dropout bw']\n",
      "*** CUDA      38 r3_\u001b[34m5\u001b[0m\u001b[90m_\u001b[0m\u001b[34m25\u001b[0m\u001b[90m_\u001b[0m\u001b[36m2\u001b[0m\u001b[90m_\u001b[0m\u001b[36m16\u001b[0m\u001b[90m_\u001b[0m\u001b[31m32\u001b[0m\u001b[90m_\u001b[0m\u001b[33m4\u001b[0m\u001b[90m_\u001b[0m\u001b[35m4\u001b[0m\u001b[90mn1\u001b[0m                     arg  8 mem  0.08 GB tm     34.85us/    14.70ms (   124.54 GFLOPS   34.7|306.2   GB/s) ['__mul__', 'linear bw', 'assign', '__truediv__', '__add__', '__rmul__']\n",
      "*** CUDA      39 E_\u001b[34m64\u001b[0m\u001b[90m_\u001b[0m\u001b[34m5\u001b[0m\u001b[90m_\u001b[0m\u001b[34m5\u001b[0m\u001b[90m_\u001b[0m\u001b[36m32\u001b[0m\u001b[90m_\u001b[0m\u001b[36m2\u001b[0m\u001b[90m_\u001b[0m\u001b[36m2\u001b[0m\u001b[90m_\u001b[0m\u001b[33m4\u001b[0m\u001b[90m\u001b[0m                         arg  5 mem  0.08 GB tm    265.70us/    14.97ms (    21.58 GFLOPS   36.5|61.7    GB/s) ['max_pool2d bw', 'relu']\n",
      "*** CUDA      40 E_\u001b[34m16\u001b[0m\u001b[90m_\u001b[0m\u001b[34m11\u001b[0m\u001b[90m_\u001b[0m\u001b[34m11\u001b[0m\u001b[90m_\u001b[0m\u001b[36m8\u001b[0m\u001b[90m_\u001b[0m\u001b[36m16\u001b[0m\u001b[90m_\u001b[0m\u001b[33m4\u001b[0m\u001b[90m\u001b[0m                         arg  3 mem  0.08 GB tm    341.57us/    15.31ms (    11.61 GFLOPS   32.8|34.8    GB/s) ['relu bw', 'relu']\n",
      "*** CUDA      41 r3_\u001b[34m64\u001b[0m\u001b[90m_\u001b[0m\u001b[32m16\u001b[0m\u001b[90m_\u001b[0m\u001b[31m8\u001b[0m\u001b[90m_\u001b[0m\u001b[31m121\u001b[0m\u001b[90mn1\u001b[0m                          arg  7 mem  0.08 GB tm    495.94us/    15.80ms (     2.06 GFLOPS    8.0|8.2     GB/s) ['__mul__', 'conv2d bw', 'assign', '__truediv__', '__add__', '__rmul__']\n",
      "*** CUDA      42 r_\u001b[34m16\u001b[0m\u001b[90m_\u001b[0m\u001b[34m2\u001b[0m\u001b[90m_\u001b[0m\u001b[34m121\u001b[0m\u001b[90m_\u001b[0m\u001b[36m2\u001b[0m\u001b[90m_\u001b[0m\u001b[36m16\u001b[0m\u001b[90m_\u001b[0m\u001b[36m3\u001b[0m\u001b[90m_\u001b[0m\u001b[31m16\u001b[0m\u001b[90m_\u001b[0m\u001b[33m4\u001b[0m\u001b[90m_\u001b[0m\u001b[33m3\u001b[0m\u001b[90m_\u001b[0m\u001b[35m4\u001b[0m\u001b[90m\u001b[0m                arg  3 mem  0.09 GB tm   1930.02us/    17.73ms (   295.83 GFLOPS   11.3|354.4   GB/s) ['conv2d bw']\n",
      "*** CUDA      43 r3_\u001b[34m8\u001b[0m\u001b[90m_\u001b[0m\u001b[34m2\u001b[0m\u001b[90m_\u001b[0m\u001b[36m2\u001b[0m\u001b[90m_\u001b[0m\u001b[36m16\u001b[0m\u001b[90m_\u001b[0m\u001b[36m3\u001b[0m\u001b[90m_\u001b[0m\u001b[31m128\u001b[0m\u001b[90m_\u001b[0m\u001b[31m11\u001b[0m\u001b[90m_\u001b[0m\u001b[33m4\u001b[0m\u001b[90m_\u001b[0m\u001b[33m3\u001b[0m\u001b[90m_\u001b[0m\u001b[35m11\u001b[0m\u001b[90mn1\u001b[0m             arg  8 mem  0.09 GB tm   3366.88us/    21.10ms (   169.66 GFLOPS    2.1|146.6   GB/s) ['__mul__', 'conv2d bw', 'assign', '__truediv__', '__add__', '__rmul__']\n",
      "*** CUDA      44 r_\u001b[34m128\u001b[0m\u001b[90m_\u001b[0m\u001b[34m13\u001b[0m\u001b[90m_\u001b[0m\u001b[34m13\u001b[0m\u001b[90m_\u001b[0m\u001b[36m32\u001b[0m\u001b[90m_\u001b[0m\u001b[31m4\u001b[0m\u001b[90m_\u001b[0m\u001b[35m4\u001b[0m\u001b[90m\u001b[0m                        arg  2 mem  0.10 GB tm    509.98us/    21.61ms (    16.29 GFLOPS   40.4|70.6    GB/s) ['conv2d bw']\n",
      "*** CUDA      45 E_\u001b[34m32\u001b[0m\u001b[90m_\u001b[0m\u001b[34m13\u001b[0m\u001b[90m_\u001b[0m\u001b[34m13\u001b[0m\u001b[90m_\u001b[0m\u001b[36m32\u001b[0m\u001b[90m_\u001b[0m\u001b[36m2\u001b[0m\u001b[90m_\u001b[0m\u001b[36m2\u001b[0m\u001b[90m_\u001b[0m\u001b[33m4\u001b[0m\u001b[90m\u001b[0m                       arg  5 mem  0.09 GB tm    925.70us/    22.54ms (    26.92 GFLOPS   32.9|59.8    GB/s) ['relu bw', 'max_pool2d bw', 'relu']\n",
      "*** CUDA      46 r_\u001b[34m32\u001b[0m\u001b[90m_\u001b[0m\u001b[36m8\u001b[0m\u001b[90m_\u001b[0m\u001b[36m3\u001b[0m\u001b[90m_\u001b[0m\u001b[36m4\u001b[0m\u001b[90m_\u001b[0m\u001b[31m26\u001b[0m\u001b[90m_\u001b[0m\u001b[33m4\u001b[0m\u001b[90m_\u001b[0m\u001b[33m3\u001b[0m\u001b[90m_\u001b[0m\u001b[35m26\u001b[0m\u001b[90m\u001b[0m                      arg  3 mem  0.07 GB tm    261.22us/    22.80ms (   190.80 GFLOPS   43.3|136.3   GB/s) ['conv2d bw', 'conv2d']\n",
      "*** CUDA      47 r_\u001b[34m4\u001b[0m\u001b[90m_\u001b[0m\u001b[34m8\u001b[0m\u001b[90m_\u001b[0m\u001b[36m8\u001b[0m\u001b[90m_\u001b[0m\u001b[36m16\u001b[0m\u001b[90m_\u001b[0m\u001b[31m169\u001b[0m\u001b[90m_\u001b[0m\u001b[35m4\u001b[0m\u001b[90m\u001b[0m                          arg  2 mem  0.07 GB tm     85.41us/    22.88ms (    32.42 GFLOPS  129.9|129.9   GB/s) ['conv2d bw']\n",
      "*** CUDA      48 r3_\u001b[34m288\u001b[0m\u001b[90m_\u001b[0m\u001b[32m16\u001b[0m\u001b[90m_\u001b[0m\u001b[31m8\u001b[0m\u001b[90mn1\u001b[0m                             arg  7 mem  0.06 GB tm    393.44us/    23.28ms (     0.47 GFLOPS    0.4|1.6     GB/s) ['__mul__', 'conv2d bw', 'assign', '__truediv__', '__add__', '__rmul__']\n",
      "*** CUDA      49 r3_\u001b[34m32\u001b[0m\u001b[90m_\u001b[0m\u001b[32m16\u001b[0m\u001b[90m_\u001b[0m\u001b[31m8\u001b[0m\u001b[90mn1\u001b[0m                              arg  7 mem  0.06 GB tm     18.11us/    23.29ms (     1.13 GFLOPS    0.9|3.8     GB/s) ['__mul__', 'conv2d bw', 'assign', '__truediv__', '__add__', '__rmul__']\n"
     ]
    }
   ],
   "source": [
    "from tinygrad import GlobalCounters, Context\n",
    "GlobalCounters.reset()\n",
    "with Context(DEBUG=2): step()"
   ]
  },
  {
   "cell_type": "code",
   "execution_count": 10,
   "metadata": {
    "id": "cnS9jhgPcc6M"
   },
   "outputs": [],
   "source": [
    "from tinygrad import TinyJit\n",
    "jit_step = TinyJit(step)"
   ]
  },
  {
   "cell_type": "code",
   "execution_count": 12,
   "metadata": {
    "colab": {
     "base_uri": "https://localhost:8080/"
    },
    "id": "ShaxOBFmcglb",
    "outputId": "153efca9-b756-4943-e322-02669fabe9a1"
   },
   "outputs": [
    {
     "data": {
      "text/plain": [
       "[0.0004929050000157531,\n",
       " 0.0001609649999920748,\n",
       " 0.00018581100002279527,\n",
       " 9.445599999935439e-05,\n",
       " 7.041399999252462e-05]"
      ]
     },
     "execution_count": 12,
     "metadata": {},
     "output_type": "execute_result"
    }
   ],
   "source": [
    "import timeit\n",
    "timeit.repeat(jit_step, repeat=5, number=1)\n",
    "# [0.2596786549997887,\n",
    "#  0.08989566299987928,\n",
    "#  0.0012115650001760514,\n",
    "#  0.001010227999813651,\n",
    "#  0.0012164899999334011]"
   ]
  },
  {
   "cell_type": "code",
   "execution_count": 13,
   "metadata": {
    "colab": {
     "base_uri": "https://localhost:8080/"
    },
    "id": "GawZB5xgclJl",
    "outputId": "8c473313-2637-457f-8146-fb2bae5bcb0b"
   },
   "outputs": [
    {
     "name": "stdout",
     "output_type": "stream",
     "text": [
      "step    0, loss 1.48, acc 83.76%\n",
      "step  100, loss 0.31, acc 94.99%\n",
      "step  200, loss 0.16, acc 96.41%\n",
      "step  300, loss 0.23, acc 97.14%\n",
      "step  400, loss 0.28, acc 97.29%\n",
      "step  500, loss 0.21, acc 97.50%\n",
      "step  600, loss 0.15, acc 97.70%\n",
      "step  700, loss 0.18, acc 97.53%\n",
      "step  800, loss 0.20, acc 97.36%\n",
      "step  900, loss 0.32, acc 97.72%\n",
      "step 1000, loss 0.17, acc 98.02%\n",
      "step 1100, loss 0.15, acc 98.20%\n",
      "step 1200, loss 0.05, acc 98.15%\n",
      "step 1300, loss 0.03, acc 98.28%\n",
      "step 1400, loss 0.14, acc 98.07%\n",
      "step 1500, loss 0.07, acc 98.04%\n",
      "step 1600, loss 0.09, acc 98.13%\n",
      "step 1700, loss 0.20, acc 98.35%\n",
      "step 1800, loss 0.06, acc 98.48%\n",
      "step 1900, loss 0.08, acc 98.38%\n",
      "step 2000, loss 0.07, acc 98.27%\n",
      "step 2100, loss 0.13, acc 98.42%\n",
      "step 2200, loss 0.13, acc 98.41%\n",
      "step 2300, loss 0.07, acc 98.43%\n",
      "step 2400, loss 0.10, acc 98.54%\n",
      "step 2500, loss 0.10, acc 98.44%\n",
      "step 2600, loss 0.02, acc 98.60%\n",
      "step 2700, loss 0.14, acc 98.60%\n",
      "step 2800, loss 0.12, acc 98.56%\n",
      "step 2900, loss 0.07, acc 98.36%\n",
      "step 3000, loss 0.01, acc 98.66%\n",
      "step 3100, loss 0.12, acc 98.66%\n",
      "step 3200, loss 0.06, acc 98.57%\n",
      "step 3300, loss 0.10, acc 98.78%\n",
      "step 3400, loss 0.10, acc 98.65%\n",
      "step 3500, loss 0.04, acc 98.65%\n",
      "step 3600, loss 0.16, acc 98.64%\n",
      "step 3700, loss 0.06, acc 98.56%\n",
      "step 3800, loss 0.02, acc 98.84%\n",
      "step 3900, loss 0.09, acc 98.75%\n",
      "step 4000, loss 0.06, acc 98.79%\n",
      "step 4100, loss 0.06, acc 98.80%\n",
      "step 4200, loss 0.09, acc 98.75%\n",
      "step 4300, loss 0.15, acc 98.71%\n",
      "step 4400, loss 0.10, acc 98.86%\n",
      "step 4500, loss 0.11, acc 98.75%\n",
      "step 4600, loss 0.02, acc 98.81%\n",
      "step 4700, loss 0.00, acc 98.73%\n",
      "step 4800, loss 0.07, acc 98.74%\n",
      "step 4900, loss 0.06, acc 98.83%\n",
      "step 5000, loss 0.05, acc 98.71%\n",
      "step 5100, loss 0.07, acc 98.78%\n",
      "step 5200, loss 0.10, acc 98.65%\n",
      "step 5300, loss 0.05, acc 98.76%\n",
      "step 5400, loss 0.08, acc 98.75%\n",
      "step 5500, loss 0.01, acc 98.85%\n",
      "step 5600, loss 0.11, acc 98.90%\n",
      "step 5700, loss 0.04, acc 98.86%\n",
      "step 5800, loss 0.20, acc 98.94%\n",
      "step 5900, loss 0.13, acc 98.82%\n",
      "step 6000, loss 0.15, acc 98.84%\n",
      "step 6100, loss 0.07, acc 98.97%\n",
      "step 6200, loss 0.01, acc 98.84%\n",
      "step 6300, loss 0.03, acc 98.85%\n",
      "step 6400, loss 0.04, acc 98.85%\n",
      "step 6500, loss 0.01, acc 98.98%\n",
      "step 6600, loss 0.13, acc 98.99%\n",
      "step 6700, loss 0.04, acc 99.10%\n",
      "step 6800, loss 0.09, acc 99.03%\n",
      "step 6900, loss 0.04, acc 98.69%\n"
     ]
    }
   ],
   "source": [
    "for step in range(7000):\n",
    "  loss = jit_step()\n",
    "  if step%100 == 0:\n",
    "    Tensor.training = False\n",
    "    acc = (model(X_test).argmax(axis=1) == Y_test).mean().item()\n",
    "    print(f\"step {step:4d}, loss {loss.item():.2f}, acc {acc*100.:.2f}%\")"
   ]
  }
 ],
 "metadata": {
  "accelerator": "GPU",
  "colab": {
   "gpuType": "T4",
   "provenance": []
  },
  "kernelspec": {
   "display_name": "Python 3 (ipykernel)",
   "language": "python",
   "name": "python3"
  },
  "language_info": {
   "codemirror_mode": {
    "name": "ipython",
    "version": 3
   },
   "file_extension": ".py",
   "mimetype": "text/x-python",
   "name": "python",
   "nbconvert_exporter": "python",
   "pygments_lexer": "ipython3",
   "version": "3.10.16"
  }
 },
 "nbformat": 4,
 "nbformat_minor": 4
}
